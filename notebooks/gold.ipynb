{
 "cells": [
  {
   "cell_type": "code",
   "execution_count": 2,
   "id": "5052f999",
   "metadata": {},
   "outputs": [
    {
     "name": "stdout",
     "output_type": "stream",
     "text": [
      "Pipeline Gold executado com sucesso!\n"
     ]
    }
   ],
   "source": [
    "from pyspark.sql import SparkSession\n",
    "from pyspark.sql.functions import avg, count, expr\n",
    "from dotenv import load_dotenv\n",
    "import os\n",
    "\n",
    "# Carregar variáveis de ambiente do caminho dentro do container\n",
    "load_dotenv('../.env_kafka_connect')\n",
    "\n",
    "pg_host = os.getenv(\"POSTGRES_HOST\")\n",
    "pg_port = os.getenv(\"POSTGRES_PORT\", \"5432\")\n",
    "pg_db = os.getenv(\"POSTGRES_DB\")\n",
    "pg_user = os.getenv(\"POSTGRES_USER\")\n",
    "pg_password = os.getenv(\"POSTGRES_PASSWORD\")\n",
    "\n",
    "# JDBC URL e propriedades de conexão\n",
    "#jdbc_url = f\"jdbc:postgresql://{pg_host}:{pg_port}/{pg_db}\"\n",
    "jdbc_url = f\"jdbc:postgresql://host.docker.internal:5432/postgres\"\n",
    "jdbc_properties = {\n",
    "    \"user\": pg_user,\n",
    "    \"password\": pg_password,\n",
    "    \"driver\": \"org.postgresql.Driver\"\n",
    "}\n",
    "\n",
    "# Criar SparkSession\n",
    "spark = SparkSession.builder \\\n",
    "    .appName(\"Pipeline - Gold\") \\\n",
    "    .config(\"spark.jars\", \"../jars/postgresql-42.6.2.jar\") \\\n",
    "    .getOrCreate()\n",
    "\n",
    "# Ler as tabelas Silver do PostgreSQL\n",
    "df_pre = spark.read.jdbc(url=jdbc_url, table=\"public.dadostesouropre_silver\", properties=jdbc_properties)\n",
    "df_ipca = spark.read.jdbc(url=jdbc_url, table=\"public.dadostesouroipca_silver\", properties=jdbc_properties)\n",
    "\n",
    "# Registrar views temporárias para SQL\n",
    "df_ipca.createOrReplaceTempView(\"ipca_silver\")\n",
    "df_pre.createOrReplaceTempView(\"pre_silver\")\n",
    "\n",
    "# Consulta agregada para IPCA\n",
    "df_ipca_gold = spark.sql(\"\"\"\n",
    "SELECT\n",
    "  Data_Base,\n",
    "  Tipo,\n",
    "  COUNT(*) AS qtde_registros,\n",
    "  AVG(CompraManha) AS compra_manha_media,\n",
    "  AVG(VendaManha) AS venda_manha_media,\n",
    "  AVG(PUCompraManha) AS pu_compra_manha_media,\n",
    "  AVG(PUVendaManha) AS pu_venda_manha_media,\n",
    "  AVG(PUBaseManha) AS pu_base_manha_media,\n",
    "  AVG(100 * (VendaManha - CompraManha) / CompraManha) AS percentual_diferenca_compra_venda\n",
    "FROM ipca_silver\n",
    "GROUP BY Data_Base, Tipo\n",
    "ORDER BY Data_Base, Tipo\n",
    "\"\"\")\n",
    "\n",
    "# Consulta agregada para Pré\n",
    "df_pre_gold = spark.sql(\"\"\"\n",
    "SELECT\n",
    "  Data_Base,\n",
    "  Tipo,\n",
    "  COUNT(*) AS qtde_registros,\n",
    "  AVG(CompraManha) AS compra_manha_media,\n",
    "  AVG(VendaManha) AS venda_manha_media,\n",
    "  AVG(PUCompraManha) AS pu_compra_manha_media,\n",
    "  AVG(PUVendaManha) AS pu_venda_manha_media,\n",
    "  AVG(PUBaseManha) AS pu_base_manha_media,\n",
    "  AVG(100 * (VendaManha - CompraManha) / CompraManha) AS percentual_diferenca_compra_venda\n",
    "FROM pre_silver\n",
    "GROUP BY Data_Base, Tipo\n",
    "ORDER BY Data_Base, Tipo\n",
    "\"\"\")\n",
    "\n",
    "# Gravar as tabelas Gold no PostgreSQL\n",
    "df_ipca_gold.write.jdbc(url=jdbc_url, table=\"public.dadostesouroipca_gold\", mode=\"overwrite\", properties=jdbc_properties)\n",
    "df_pre_gold.write.jdbc(url=jdbc_url, table=\"public.dadostesouropre_gold\", mode=\"overwrite\", properties=jdbc_properties)\n",
    "\n",
    "print(\"Pipeline Gold executado com sucesso!\")"
   ]
  }
 ],
 "metadata": {
  "kernelspec": {
   "display_name": "Python 3",
   "language": "python",
   "name": "python3"
  },
  "language_info": {
   "codemirror_mode": {
    "name": "ipython",
    "version": 3
   },
   "file_extension": ".py",
   "mimetype": "text/x-python",
   "name": "python",
   "nbconvert_exporter": "python",
   "pygments_lexer": "ipython3",
   "version": "3.13.5"
  }
 },
 "nbformat": 4,
 "nbformat_minor": 5
}
