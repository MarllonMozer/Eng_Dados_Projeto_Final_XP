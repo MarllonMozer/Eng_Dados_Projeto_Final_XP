{
 "cells": [
  {
   "cell_type": "code",
   "execution_count": 30,
   "id": "78c4a706",
   "metadata": {},
   "outputs": [
    {
     "name": "stdout",
     "output_type": "stream",
     "text": [
      "jdbc:postgresql://postgres:5432/postgres\n",
      "{'user': 'postgres', 'password': 'postgres', 'driver': 'org.postgresql.Driver'}\n"
     ]
    }
   ],
   "source": [
    "from pyspark.sql import SparkSession\n",
    "from pyspark.sql.functions import avg, count, expr\n",
    "from dotenv import load_dotenv\n",
    "import os\n",
    "\n",
    "# Carregar variáveis de ambiente do caminho dentro do container\n",
    "load_dotenv('../.env_kafka_connect')\n",
    "\n",
    "pg_host = os.getenv(\"POSTGRES_HOST\")\n",
    "pg_port = os.getenv(\"POSTGRES_PORT\", \"5432\")\n",
    "pg_db = os.getenv(\"POSTGRES_DB\")\n",
    "pg_user = os.getenv(\"POSTGRES_USER\")\n",
    "pg_password = os.getenv(\"POSTGRES_PASSWORD\")\n",
    "\n",
    "# JDBC URL e propriedades de conexão\n",
    "jdbc_url = f\"jdbc:postgresql://{pg_host}:{pg_port}/{pg_db}\"\n",
    "#jdbc_url = f\"jdbc:postgresql://host.docker.internal:5432/postgres\"\n",
    "jdbc_properties = {\n",
    "    \"user\": pg_user,\n",
    "    \"password\": pg_password,\n",
    "    \"driver\": \"org.postgresql.Driver\"\n",
    "}\n",
    "print(jdbc_url)\n",
    "print(jdbc_properties)\n"
   ]
  },
  {
   "cell_type": "code",
   "execution_count": null,
   "id": "5052f999",
   "metadata": {},
   "outputs": [
    {
     "ename": "ConnectionRefusedError",
     "evalue": "[WinError 10061] Nenhuma conexão pôde ser feita porque a máquina de destino as recusou ativamente",
     "output_type": "error",
     "traceback": [
      "\u001b[31m---------------------------------------------------------------------------\u001b[39m",
      "\u001b[31mConnectionRefusedError\u001b[39m                    Traceback (most recent call last)",
      "\u001b[36mCell\u001b[39m\u001b[36m \u001b[39m\u001b[32mIn[32]\u001b[39m\u001b[32m, line 2\u001b[39m\n\u001b[32m      1\u001b[39m \u001b[38;5;66;03m# Ler as tabelas Silver do PostgreSQL\u001b[39;00m\n\u001b[32m----> \u001b[39m\u001b[32m2\u001b[39m df_pre = \u001b[43mspark\u001b[49m\u001b[43m.\u001b[49m\u001b[43mread\u001b[49m.jdbc(url=jdbc_url, table=\u001b[33m\"\u001b[39m\u001b[33mpublic.dadostesouropre_silver\u001b[39m\u001b[33m\"\u001b[39m, properties=jdbc_properties)\n\u001b[32m      3\u001b[39m df_ipca = spark.read.jdbc(url=jdbc_url, table=\u001b[33m\"\u001b[39m\u001b[33mpublic.dadostesouroipca_silver\u001b[39m\u001b[33m\"\u001b[39m, properties=jdbc_properties)\n\u001b[32m      5\u001b[39m \u001b[38;5;66;03m# Registrar views temporárias para SQL\u001b[39;00m\n",
      "\u001b[36mFile \u001b[39m\u001b[32mc:\\Users\\Artha\\AppData\\Local\\Programs\\Python\\Python313\\Lib\\site-packages\\pyspark\\sql\\session.py:1898\u001b[39m, in \u001b[36mSparkSession.read\u001b[39m\u001b[34m(self)\u001b[39m\n\u001b[32m   1861\u001b[39m \u001b[38;5;129m@property\u001b[39m\n\u001b[32m   1862\u001b[39m \u001b[38;5;28;01mdef\u001b[39;00m\u001b[38;5;250m \u001b[39m\u001b[34mread\u001b[39m(\u001b[38;5;28mself\u001b[39m) -> DataFrameReader:\n\u001b[32m   1863\u001b[39m \u001b[38;5;250m    \u001b[39m\u001b[33;03m\"\"\"\u001b[39;00m\n\u001b[32m   1864\u001b[39m \u001b[33;03m    Returns a :class:`DataFrameReader` that can be used to read data\u001b[39;00m\n\u001b[32m   1865\u001b[39m \u001b[33;03m    in as a :class:`DataFrame`.\u001b[39;00m\n\u001b[32m   (...)\u001b[39m\u001b[32m   1896\u001b[39m \u001b[33;03m    +---+------------+\u001b[39;00m\n\u001b[32m   1897\u001b[39m \u001b[33;03m    \"\"\"\u001b[39;00m\n\u001b[32m-> \u001b[39m\u001b[32m1898\u001b[39m     \u001b[38;5;28;01mreturn\u001b[39;00m \u001b[43mDataFrameReader\u001b[49m\u001b[43m(\u001b[49m\u001b[38;5;28;43mself\u001b[39;49m\u001b[43m)\u001b[49m\n",
      "\u001b[36mFile \u001b[39m\u001b[32mc:\\Users\\Artha\\AppData\\Local\\Programs\\Python\\Python313\\Lib\\site-packages\\pyspark\\sql\\readwriter.py:69\u001b[39m, in \u001b[36mDataFrameReader.__init__\u001b[39m\u001b[34m(self, spark)\u001b[39m\n\u001b[32m     68\u001b[39m \u001b[38;5;28;01mdef\u001b[39;00m\u001b[38;5;250m \u001b[39m\u001b[34m__init__\u001b[39m(\u001b[38;5;28mself\u001b[39m, spark: \u001b[33m\"\u001b[39m\u001b[33mSparkSession\u001b[39m\u001b[33m\"\u001b[39m):\n\u001b[32m---> \u001b[39m\u001b[32m69\u001b[39m     \u001b[38;5;28mself\u001b[39m._jreader = \u001b[43mspark\u001b[49m\u001b[43m.\u001b[49m\u001b[43m_jsparkSession\u001b[49m\u001b[43m.\u001b[49m\u001b[43mread\u001b[49m\u001b[43m(\u001b[49m\u001b[43m)\u001b[49m\n\u001b[32m     70\u001b[39m     \u001b[38;5;28mself\u001b[39m._spark = spark\n",
      "\u001b[36mFile \u001b[39m\u001b[32mc:\\Users\\Artha\\AppData\\Local\\Programs\\Python\\Python313\\Lib\\site-packages\\py4j\\java_gateway.py:1361\u001b[39m, in \u001b[36mJavaMember.__call__\u001b[39m\u001b[34m(self, *args)\u001b[39m\n\u001b[32m   1354\u001b[39m args_command, temp_args = \u001b[38;5;28mself\u001b[39m._build_args(*args)\n\u001b[32m   1356\u001b[39m command = proto.CALL_COMMAND_NAME +\\\n\u001b[32m   1357\u001b[39m     \u001b[38;5;28mself\u001b[39m.command_header +\\\n\u001b[32m   1358\u001b[39m     args_command +\\\n\u001b[32m   1359\u001b[39m     proto.END_COMMAND_PART\n\u001b[32m-> \u001b[39m\u001b[32m1361\u001b[39m answer = \u001b[38;5;28;43mself\u001b[39;49m\u001b[43m.\u001b[49m\u001b[43mgateway_client\u001b[49m\u001b[43m.\u001b[49m\u001b[43msend_command\u001b[49m\u001b[43m(\u001b[49m\u001b[43mcommand\u001b[49m\u001b[43m)\u001b[49m\n\u001b[32m   1362\u001b[39m return_value = get_return_value(\n\u001b[32m   1363\u001b[39m     answer, \u001b[38;5;28mself\u001b[39m.gateway_client, \u001b[38;5;28mself\u001b[39m.target_id, \u001b[38;5;28mself\u001b[39m.name)\n\u001b[32m   1365\u001b[39m \u001b[38;5;28;01mfor\u001b[39;00m temp_arg \u001b[38;5;129;01min\u001b[39;00m temp_args:\n",
      "\u001b[36mFile \u001b[39m\u001b[32mc:\\Users\\Artha\\AppData\\Local\\Programs\\Python\\Python313\\Lib\\site-packages\\py4j\\java_gateway.py:1036\u001b[39m, in \u001b[36mGatewayClient.send_command\u001b[39m\u001b[34m(self, command, retry, binary)\u001b[39m\n\u001b[32m   1015\u001b[39m \u001b[38;5;28;01mdef\u001b[39;00m\u001b[38;5;250m \u001b[39m\u001b[34msend_command\u001b[39m(\u001b[38;5;28mself\u001b[39m, command, retry=\u001b[38;5;28;01mTrue\u001b[39;00m, binary=\u001b[38;5;28;01mFalse\u001b[39;00m):\n\u001b[32m   1016\u001b[39m \u001b[38;5;250m    \u001b[39m\u001b[33;03m\"\"\"Sends a command to the JVM. This method is not intended to be\u001b[39;00m\n\u001b[32m   1017\u001b[39m \u001b[33;03m       called directly by Py4J users. It is usually called by\u001b[39;00m\n\u001b[32m   1018\u001b[39m \u001b[33;03m       :class:`JavaMember` instances.\u001b[39;00m\n\u001b[32m   (...)\u001b[39m\u001b[32m   1034\u001b[39m \u001b[33;03m     if `binary` is `True`.\u001b[39;00m\n\u001b[32m   1035\u001b[39m \u001b[33;03m    \"\"\"\u001b[39;00m\n\u001b[32m-> \u001b[39m\u001b[32m1036\u001b[39m     connection = \u001b[38;5;28;43mself\u001b[39;49m\u001b[43m.\u001b[49m\u001b[43m_get_connection\u001b[49m\u001b[43m(\u001b[49m\u001b[43m)\u001b[49m\n\u001b[32m   1037\u001b[39m     \u001b[38;5;28;01mtry\u001b[39;00m:\n\u001b[32m   1038\u001b[39m         response = connection.send_command(command)\n",
      "\u001b[36mFile \u001b[39m\u001b[32mc:\\Users\\Artha\\AppData\\Local\\Programs\\Python\\Python313\\Lib\\site-packages\\py4j\\clientserver.py:284\u001b[39m, in \u001b[36mJavaClient._get_connection\u001b[39m\u001b[34m(self)\u001b[39m\n\u001b[32m    281\u001b[39m     \u001b[38;5;28;01mpass\u001b[39;00m\n\u001b[32m    283\u001b[39m \u001b[38;5;28;01mif\u001b[39;00m connection \u001b[38;5;129;01mis\u001b[39;00m \u001b[38;5;28;01mNone\u001b[39;00m \u001b[38;5;129;01mor\u001b[39;00m connection.socket \u001b[38;5;129;01mis\u001b[39;00m \u001b[38;5;28;01mNone\u001b[39;00m:\n\u001b[32m--> \u001b[39m\u001b[32m284\u001b[39m     connection = \u001b[38;5;28;43mself\u001b[39;49m\u001b[43m.\u001b[49m\u001b[43m_create_new_connection\u001b[49m\u001b[43m(\u001b[49m\u001b[43m)\u001b[49m\n\u001b[32m    285\u001b[39m \u001b[38;5;28;01mreturn\u001b[39;00m connection\n",
      "\u001b[36mFile \u001b[39m\u001b[32mc:\\Users\\Artha\\AppData\\Local\\Programs\\Python\\Python313\\Lib\\site-packages\\py4j\\clientserver.py:291\u001b[39m, in \u001b[36mJavaClient._create_new_connection\u001b[39m\u001b[34m(self)\u001b[39m\n\u001b[32m    287\u001b[39m \u001b[38;5;28;01mdef\u001b[39;00m\u001b[38;5;250m \u001b[39m\u001b[34m_create_new_connection\u001b[39m(\u001b[38;5;28mself\u001b[39m):\n\u001b[32m    288\u001b[39m     connection = ClientServerConnection(\n\u001b[32m    289\u001b[39m         \u001b[38;5;28mself\u001b[39m.java_parameters, \u001b[38;5;28mself\u001b[39m.python_parameters,\n\u001b[32m    290\u001b[39m         \u001b[38;5;28mself\u001b[39m.gateway_property, \u001b[38;5;28mself\u001b[39m)\n\u001b[32m--> \u001b[39m\u001b[32m291\u001b[39m     \u001b[43mconnection\u001b[49m\u001b[43m.\u001b[49m\u001b[43mconnect_to_java_server\u001b[49m\u001b[43m(\u001b[49m\u001b[43m)\u001b[49m\n\u001b[32m    292\u001b[39m     \u001b[38;5;28mself\u001b[39m.set_thread_connection(connection)\n\u001b[32m    293\u001b[39m     \u001b[38;5;28;01mreturn\u001b[39;00m connection\n",
      "\u001b[36mFile \u001b[39m\u001b[32mc:\\Users\\Artha\\AppData\\Local\\Programs\\Python\\Python313\\Lib\\site-packages\\py4j\\clientserver.py:438\u001b[39m, in \u001b[36mClientServerConnection.connect_to_java_server\u001b[39m\u001b[34m(self)\u001b[39m\n\u001b[32m    435\u001b[39m \u001b[38;5;28;01mif\u001b[39;00m \u001b[38;5;28mself\u001b[39m.ssl_context:\n\u001b[32m    436\u001b[39m     \u001b[38;5;28mself\u001b[39m.socket = \u001b[38;5;28mself\u001b[39m.ssl_context.wrap_socket(\n\u001b[32m    437\u001b[39m         \u001b[38;5;28mself\u001b[39m.socket, server_hostname=\u001b[38;5;28mself\u001b[39m.java_address)\n\u001b[32m--> \u001b[39m\u001b[32m438\u001b[39m \u001b[38;5;28;43mself\u001b[39;49m\u001b[43m.\u001b[49m\u001b[43msocket\u001b[49m\u001b[43m.\u001b[49m\u001b[43mconnect\u001b[49m\u001b[43m(\u001b[49m\u001b[43m(\u001b[49m\u001b[38;5;28;43mself\u001b[39;49m\u001b[43m.\u001b[49m\u001b[43mjava_address\u001b[49m\u001b[43m,\u001b[49m\u001b[43m \u001b[49m\u001b[38;5;28;43mself\u001b[39;49m\u001b[43m.\u001b[49m\u001b[43mjava_port\u001b[49m\u001b[43m)\u001b[49m\u001b[43m)\u001b[49m\n\u001b[32m    439\u001b[39m \u001b[38;5;28mself\u001b[39m.stream = \u001b[38;5;28mself\u001b[39m.socket.makefile(\u001b[33m\"\u001b[39m\u001b[33mrb\u001b[39m\u001b[33m\"\u001b[39m)\n\u001b[32m    440\u001b[39m \u001b[38;5;28mself\u001b[39m.is_connected = \u001b[38;5;28;01mTrue\u001b[39;00m\n",
      "\u001b[31mConnectionRefusedError\u001b[39m: [WinError 10061] Nenhuma conexão pôde ser feita porque a máquina de destino as recusou ativamente"
     ]
    }
   ],
   "source": [
    "# Criar SparkSession\n",
    "spark = SparkSession.builder \\\n",
    "    .appName(\"Pipeline - Gold\") \\\n",
    "    .config(\"spark.jars\", \"../jars/postgresql-42.6.2.jar\") \\\n",
    "    .getOrCreate()\n",
    "\n",
    "# Ler as tabelas Silver do PostgreSQL\n",
    "df_pre = spark.read.jdbc(url=jdbc_url, table=\"public.dadostesouropre_silver\", properties=jdbc_properties)\n",
    "df_ipca = spark.read.jdbc(url=jdbc_url, table=\"public.dadostesouroipca_silver\", properties=jdbc_properties)\n",
    "\n",
    "# Registrar views temporárias para SQL\n",
    "df_ipca.createOrReplaceTempView(\"ipca_silver\")\n",
    "df_pre.createOrReplaceTempView(\"pre_silver\")\n",
    "\n",
    "# Consulta agregada para IPCA\n",
    "df_ipca_gold = spark.sql(\"\"\"\n",
    "SELECT\n",
    "  Data_Base,\n",
    "  Tipo,\n",
    "  COUNT(*) AS qtde_registros,\n",
    "  AVG(CompraManha) AS compra_manha_media,\n",
    "  AVG(VendaManha) AS venda_manha_media,\n",
    "  AVG(PUCompraManha) AS pu_compra_manha_media,\n",
    "  AVG(PUVendaManha) AS pu_venda_manha_media,\n",
    "  AVG(PUBaseManha) AS pu_base_manha_media,\n",
    "  AVG(100 * (VendaManha - CompraManha) / CompraManha) AS percentual_diferenca_compra_venda\n",
    "FROM ipca_silver\n",
    "GROUP BY Data_Base, Tipo\n",
    "ORDER BY Data_Base, Tipo\n",
    "\"\"\")\n",
    "\n",
    "# Consulta agregada para Pré\n",
    "df_pre_gold = spark.sql(\"\"\"\n",
    "SELECT\n",
    "  Data_Base,\n",
    "  Tipo,\n",
    "  COUNT(*) AS qtde_registros,\n",
    "  AVG(CompraManha) AS compra_manha_media,\n",
    "  AVG(VendaManha) AS venda_manha_media,\n",
    "  AVG(PUCompraManha) AS pu_compra_manha_media,\n",
    "  AVG(PUVendaManha) AS pu_venda_manha_media,\n",
    "  AVG(PUBaseManha) AS pu_base_manha_media,\n",
    "  AVG(100 * (VendaManha - CompraManha) / CompraManha) AS percentual_diferenca_compra_venda\n",
    "FROM pre_silver\n",
    "GROUP BY Data_Base, Tipo\n",
    "ORDER BY Data_Base, Tipo\n",
    "\"\"\")\n",
    "\n",
    "# Gravar as tabelas Gold no PostgreSQL\n",
    "df_ipca_gold.write.jdbc(url=jdbc_url, table=\"public.dadostesouroipca_gold\", mode=\"overwrite\", properties=jdbc_properties)\n",
    "df_pre_gold.write.jdbc(url=jdbc_url, table=\"public.dadostesouropre_gold\", mode=\"overwrite\", properties=jdbc_properties)\n",
    "\n",
    "print(\"Pipeline Gold executado com sucesso!\")"
   ]
  }
 ],
 "metadata": {
  "kernelspec": {
   "display_name": "Python 3",
   "language": "python",
   "name": "python3"
  },
  "language_info": {
   "codemirror_mode": {
    "name": "ipython",
    "version": 3
   },
   "file_extension": ".py",
   "mimetype": "text/x-python",
   "name": "python",
   "nbconvert_exporter": "python",
   "pygments_lexer": "ipython3",
   "version": "3.13.5"
  }
 },
 "nbformat": 4,
 "nbformat_minor": 5
}
