{
 "cells": [
  {
   "cell_type": "code",
   "execution_count": 20,
   "id": "153bfb03",
   "metadata": {},
   "outputs": [
    {
     "name": "stdout",
     "output_type": "stream",
     "text": [
      "jdbc:postgresql://host.docker.internal:5432/postgres\n",
      "{'user': 'postgres', 'password': 'postgres', 'driver': 'org.postgresql.Driver'}\n"
     ]
    }
   ],
   "source": [
    "import os\n",
    "from pyspark.sql import SparkSession\n",
    "from pyspark.sql.functions import col, upper , to_date\n",
    "from pyspark.sql.types import DateType\n",
    "from dotenv import load_dotenv\n",
    "\n",
    "# Carregar variáveis de ambiente do caminho dentro do container\n",
    "load_dotenv('../.env_kafka_connect')\n",
    "\n",
    "# Config AWS e Postgres (variáveis de ambiente)\n",
    "aws_access_key = os.getenv(\"AWS_ACCESS_KEY_ID\")\n",
    "aws_secret_key = os.getenv(\"AWS_SECRET_ACCESS_KEY\")\n",
    "aws_region = \"us-east-1\"\n",
    "\n",
    "pg_host = os.getenv(\"POSTGRES_HOST\")\n",
    "pg_port = os.getenv(\"POSTGRES_PORT\", \"5432\")\n",
    "pg_db = os.getenv(\"POSTGRES_DB\")\n",
    "pg_user = os.getenv(\"POSTGRES_USER\")\n",
    "pg_password = os.getenv(\"POSTGRES_PASSWORD\")\n",
    "\n",
    "# JDBC URL e propriedades de conexão\n",
    "#jdbc_url = f\"jdbc:postgresql://{pg_host}:{pg_port}/{pg_db}\"\n",
    "jdbc_url = f\"jdbc:postgresql://host.docker.internal:5432/postgres\"\n",
    "jdbc_properties = {\n",
    "    \"user\": pg_user,\n",
    "    \"password\": pg_password,\n",
    "    \"driver\": \"org.postgresql.Driver\"\n",
    "}\n",
    "\n",
    "print(jdbc_url)\n",
    "print(jdbc_properties)\n"
   ]
  },
  {
   "cell_type": "code",
   "execution_count": 21,
   "id": "5c5cd5fb",
   "metadata": {},
   "outputs": [
    {
     "name": "stdout",
     "output_type": "stream",
     "text": [
      "jars_path: ../jars/hadoop-aws-3.3.4.jar,../jars/aws-java-sdk-bundle-1.12.262.jar,../jars/postgresql-42.6.2.jar\n"
     ]
    }
   ],
   "source": [
    "# Caminho dos jars para Spark (Postgres + AWS)\n",
    "hadoop_aws_jar = \"../jars/hadoop-aws-3.3.4.jar\"\n",
    "aws_sdk_jar = \"../jars/aws-java-sdk-bundle-1.12.262.jar\"\n",
    "postgres_jdbc_jar = \"../jars/postgresql-42.6.2.jar\"\n",
    "jars_path = f\"{hadoop_aws_jar},{aws_sdk_jar},{postgres_jdbc_jar}\"\n",
    "\n",
    "print(f\"jars_path: {jars_path}\")\n",
    "\n",
    "# Criar SparkSession com configurações AWS + JDBC\n",
    "spark = SparkSession.builder \\\n",
    "    .appName(\"Pipeline - Silver\") \\\n",
    "    .config(\"spark.jars\", jars_path) \\\n",
    "    .config(\"spark.hadoop.fs.s3a.impl\", \"org.apache.hadoop.fs.s3a.S3AFileSystem\") \\\n",
    "    .config(\"spark.hadoop.fs.s3a.access.key\", aws_access_key) \\\n",
    "    .config(\"spark.hadoop.fs.s3a.secret.key\", aws_secret_key) \\\n",
    "    .config(\"spark.hadoop.fs.s3a.endpoint\", f\"s3.{aws_region}.amazonaws.com\") \\\n",
    "    .config(\"spark.hadoop.fs.s3a.connection.ssl.enabled\", \"true\") \\\n",
    "    .config(\"spark.hadoop.fs.s3a.path.style.access\", \"true\") \\\n",
    "    .getOrCreate()\n",
    "\n",
    "# Colunas obrigatórias para limpeza\n",
    "colunas_obrigatorias = [\"CompraManha\", \"VendaManha\", \"PUCompraManha\", \"PUVendaManha\", \"PUBaseManha\", \"Data_Vencimento\", \"Data_Base\", \"Tipo\"]"
   ]
  },
  {
   "cell_type": "code",
   "execution_count": 22,
   "id": "12da5c58",
   "metadata": {},
   "outputs": [
    {
     "name": "stdout",
     "output_type": "stream",
     "text": [
      "Pipeline Silver executado com sucesso!\n"
     ]
    }
   ],
   "source": [
    "# Ler dados Bronze do Postgres\n",
    "df_ipca = spark.read.jdbc(url=jdbc_url, table=\"public.dadostesouroipca\", properties=jdbc_properties)\n",
    "df_pre = spark.read.jdbc(url=jdbc_url, table=\"public.dadostesouropre\", properties=jdbc_properties)\n",
    "\n",
    "# Drop duplicatas\n",
    "df_ipca = df_ipca.dropDuplicates()\n",
    "df_pre = df_pre.dropDuplicates()\n",
    "\n",
    "#Criando coluna 'Data_Base' a partir de 'dt_update'\n",
    "df_ipca = df_ipca \\\n",
    "    .withColumn(\"Data_Base\", to_date(col(\"dt_update\"))) \\\n",
    "    .withColumn(\"Data_Vencimento\", to_date(col(\"dt_update\")))\n",
    "df_pre = df_pre \\\n",
    "    .withColumn(\"Data_Base\", to_date(col(\"dt_update\"))) \\\n",
    "    .withColumn(\"Data_Vencimento\", to_date(col(\"dt_update\")))\n",
    "\n",
    "# Drop nulos nas colunas importantes\n",
    "df_ipca = df_ipca.dropna(subset=colunas_obrigatorias)\n",
    "df_pre = df_pre.dropna(subset=colunas_obrigatorias)\n",
    "\n",
    "# Ajuste de tipos para colunas de data\n",
    "df_ipca = df_ipca.withColumn(\"Data_Base\", col(\"Data_Base\").cast(\"date\"))\n",
    "df_ipca = df_ipca.withColumn(\"Data_Vencimento\", col(\"Data_Vencimento\").cast(\"date\"))\n",
    "df_pre = df_pre.withColumn(\"Data_Base\", col(\"Data_Base\").cast(\"date\"))\n",
    "df_pre = df_pre.withColumn(\"Data_Vencimento\", col(\"Data_Vencimento\").cast(\"date\"))\n",
    "\n",
    "# Padronizar coluna Tipo para maiúsculo\n",
    "df_ipca = df_ipca.withColumn(\"Tipo\", upper(col(\"Tipo\")))\n",
    "df_pre = df_pre.withColumn(\"Tipo\", upper(col(\"Tipo\")))\n",
    "\n",
    "# Gravar os dados tratados na camada Silver\n",
    "df_ipca.write.jdbc(url=jdbc_url, table=\"public.dadostesouroipca_silver\", mode=\"overwrite\", properties=jdbc_properties)\n",
    "df_pre.write.jdbc(url=jdbc_url, table=\"public.dadostesouropre_silver\", mode=\"overwrite\", properties=jdbc_properties)\n",
    "\n",
    "print(\"Pipeline Silver executado com sucesso!\")"
   ]
  }
 ],
 "metadata": {
  "kernelspec": {
   "display_name": "Python 3",
   "language": "python",
   "name": "python3"
  },
  "language_info": {
   "codemirror_mode": {
    "name": "ipython",
    "version": 3
   },
   "file_extension": ".py",
   "mimetype": "text/x-python",
   "name": "python",
   "nbconvert_exporter": "python",
   "pygments_lexer": "ipython3",
   "version": "3.13.5"
  }
 },
 "nbformat": 4,
 "nbformat_minor": 5
}
